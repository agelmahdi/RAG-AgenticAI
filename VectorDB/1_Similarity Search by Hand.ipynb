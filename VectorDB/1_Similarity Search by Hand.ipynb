{
 "cells": [
  {
   "cell_type": "markdown",
   "id": "0cbf3821-56f2-4728-a8f9-bfaabf56fa48",
   "metadata": {},
   "source": [
    "Estimated time needed: **30** minutes\n"
   ]
  },
  {
   "cell_type": "markdown",
   "id": "0e600086-78b9-436e-89d1-87988997589d",
   "metadata": {},
   "source": [
    "In this lab, you will learn how to manually compute several common distance and similarity metrics used in machine learning and information retrieval. These metrics are fundamental to similarity search, which involves comparing data points—often represented as embedding vectors—to identify those that are most alike. Embedding vectors encode information such that their direction typically reflects the semantic content or topic of the input (e.g., a piece of text), while their magnitude can represent the intensity or importance of the encoded features. In this lab, you will calculate the Euclidean distance (L2 norm), dot product, and cosine similarity, gaining a deeper understanding of how these metrics quantify similarity and power search algorithms behind the scenes.\n"
   ]
  },
  {
   "cell_type": "markdown",
   "id": "ecbc29b5-306c-454e-8269-39e8b02a56d0",
   "metadata": {},
   "source": [
    "<h2>Table of Contents</h2>\n",
    "<ol>\n",
    "    <li><a href=\"#Similarity-Search-by-Hand\">Similarity Search by Hand</a>\n",
    "        <ol>\n",
    "            <li><a href=\"#Objectives\">Objectives</a></li>\n",
    "            <li><a href=\"#Setup\">Setup</a>\n",
    "                <ol>\n",
    "                    <li><a href=\"#Install-Required-Libraries\">Install Required Libraries</a></li>\n",
    "                    <li><a href=\"#Restart-the-Kernel\">Restart the Kernel</a></li>\n",
    "                    <li><a href=\"#Import-Required-Libraries\">Import Required Libraries</a></li>\n",
    "                </ol>\n",
    "            </li>\n",
    "            <li><a href=\"#Obtain-Vector-Embeddings\">Obtain Vector Embeddings</a></li>\n",
    "            <li><a href=\"#L2-(Euclidean)-Distance\">L2 (Euclidean) Distance</a>\n",
    "                <ol>\n",
    "                    <li><a href=\"#Manual-implementation-of-L2-distance-calculation\">Manual implementation of L2 distance calculation</a>\n",
    "                        <ol>\n",
    "                            <li><a href=\"#Exercise-1---Make-the-manual-calculation-more-efficient\">Exercise 1 - Make the manual calculation more efficient</a></li>\n",
    "                        </ol>\n",
    "                    </li>\n",
    "                    <li><a href=\"#Calculate-L2-distance-using-scipy\">Calculate L2 distance using `scipy`</a></li>\n",
    "                    <li><a href=\"#Interpret-the-L2-Distance-Results\">Interpret the L2 Distance Results</a></li>\n",
    "                </ol>\n",
    "            </li>\n",
    "            <li><a href=\"#Dot-Product-Similarity-and-Distance\">Dot Product Similarity and Distance</a>\n",
    "                <ol>\n",
    "                    <li><a href=\"#Manual-implementation-of-dot-product-calculation\">Manual implementation of dot product calculation</a></li>\n",
    "                    <li><a href=\"#Calculate-the-dot-product-using-matrix-multiplication\">Calculate the dot product using matrix multiplication</a></li>\n",
    "                    <li><a href=\"#Calculate-dot-product-distance\">Calculate dot product distance</a></li>\n",
    "                </ol>\n",
    "            </li>\n",
    "            <li><a href=\"#Cosine-Similarity-and-Distance\">Cosine Similarity and Distance</a>\n",
    "                <ol>\n",
    "                    <li><a href=\"#Manual-implementation-of-cosine-similarity-calculation\">Manual implementation of cosine similarity calculation</a>\n",
    "                        <ol>\n",
    "                            <li><a href=\"#Calculate-the-L2-norm\">Calculate the L2 norm</a></li>\n",
    "                            <li><a href=\"#Normalize-embedding-vectors\">Normalize embedding vectors</a>\n",
    "                                <ol>\n",
    "                                    <li><a href=\"#Exercise-2---Verify-that-vectors-are-normalized\">Exercise 2 - Verify that vectors are normalized</a></li>\n",
    "                                    <li><a href=\"#Normalize-embeddings-using-PyTorch\">Normalize embeddings using PyTorch</a></li>\n",
    "                                </ol>\n",
    "                            </li>\n",
    "                            <li><a href=\"#Calculate-cosine-similarity-manually\">Calculate cosine similarity manually</a></li>\n",
    "                        </ol>\n",
    "                    </li>\n",
    "                    <li><a href=\"#Calculate-cosine-similarity-using-matrix-multiplication\">Calculate cosine similarity using matrix multiplication</a></li>\n",
    "                    <li><a href=\"#Calculate-cosine-distance\">Calculate cosine distance</a></li>\n",
    "                </ol>\n",
    "            </li>\n",
    "        </ol>\n",
    "    </li>\n",
    "    <li><a href=\"#Exercise-3---Similarity-Search-Using-a-Query\">Exercise 3 - Similarity Search Using a Query</a></li>\n",
    "    <li><a href=\"#Wrap-up\">Wrap-up</a></li>\n",
    "    <li><a href=\"#Authors\">Authors</a></li>\n",
    "</ol>\n"
   ]
  },
  {
   "cell_type": "markdown",
   "id": "c8f8ea91-c8d6-4796-98fc-0cc2acb94796",
   "metadata": {},
   "source": [
    "## Objectives\n",
    "\n",
    "After completing this lab you will be able to:\n",
    "\n",
    "- **Compute vector similarities and distances**, including:\n",
    "  - **L2 (Euclidean) distance**\n",
    "  - **Dot product similarity and distance**\n",
    "  - **Cosine similarity and distance**\n",
    "\n",
    "- **Implement similarity calculations manually** using custom Python functions to reinforce core concepts.\n",
    "\n",
    "- **Use built-in functions and methods** from external Python libraries (such as NumPy and PyTorch) to perform these computations efficiently.\n",
    "\n",
    "- **Apply similarity measures to perform a basic similarity search**, comparing pairs of vectors to identify the most similar ones.\n"
   ]
  },
  {
   "cell_type": "markdown",
   "id": "3ec70acc-04a8-4d6d-b2aa-86fc89a887b7",
   "metadata": {},
   "source": [
    "----\n"
   ]
  },
  {
   "cell_type": "markdown",
   "id": "a5fd5f42-3109-4e34-b9f9-f108d409cae9",
   "metadata": {},
   "source": [
    "## Setup\n"
   ]
  },
  {
   "cell_type": "markdown",
   "id": "fd749a4d-ed77-494b-a290-5ad6af1bcb58",
   "metadata": {},
   "source": [
    "### Install Required Libraries\n",
    "\n",
    "Run the cell below to install the required libraries for this lab.\n",
    "\n",
    "> **Note**: This process may take 3–5 minutes to complete.\n"
   ]
  },
  {
   "cell_type": "code",
   "execution_count": 4,
   "id": "1e742d9a-80aa-48d2-86aa-7481c6ed20dd",
   "metadata": {},
   "outputs": [
    {
     "name": "stdout",
     "output_type": "stream",
     "text": [
      "\u001b[33mWARNING: Connection timed out while downloading.\u001b[0m\u001b[33m\n",
      "\u001b[0m\u001b[33mWARNING: Attempting to resume incomplete download (0 bytes/345 kB, attempt 1)\u001b[0m\u001b[33m\n",
      "\u001b[0m\u001b[33mWARNING: Retrying (Retry(total=4, connect=None, read=None, redirect=None, status=None)) after connection broken by 'ReadTimeoutError(\"HTTPSConnectionPool(host='files.pythonhosted.org', port=443): Read timed out. (read timeout=15)\")': /packages/45/2d/1151b371f28caae565ad384fdc38198f1165571870217aedda230b9d7497/sentence_transformers-4.1.0-py3-none-any.whl\u001b[0m\u001b[33m\n",
      "\u001b[0mSuccessfully installed sentence-transformers-5.0.0\n"
     ]
    }
   ],
   "source": [
    "!pip install sentence-transformers==4.1.0 | tail -n 1"
   ]
  },
  {
   "cell_type": "markdown",
   "id": "19422073-fdf0-418b-8946-09b9c132eecb",
   "metadata": {},
   "source": [
    "### Import Required Libraries\n"
   ]
  },
  {
   "cell_type": "markdown",
   "id": "f9567287-6e57-4e38-9520-944b0c8168fb",
   "metadata": {},
   "source": [
    "For this lab, we will be using the following external libraries:\n",
    "\n",
    "\n",
    "*   [`numpy`](https://numpy.org/?utm_medium=Exinfluencer&utm_source=Exinfluencer&utm_content=000026UJ&utm_term=10006555&utm_id=NA-SkillsNetwork-Channel-SkillsNetworkCoursesIBMML0187ENSkillsNetwork31430127-2021-01-01) for mathematical operations.\n",
    "*   [`scipy`](https://scipy.org/) for additional mathematical operations not found in `numpy`.\n",
    "*   [`torch`](https://pytorch.org/) for vector operations, although this library is also typically used for deep learning.\n",
    "*   [`sentence_transformers`](https://sbert.net/) for obtaining vector embeddings from text data using pre-trained models.\n",
    "\n",
    "Run the cell below to import these libraries, along with the built-in [`math`](https://docs.python.org/3/library/math.html) module from Python’s standard library:\n"
   ]
  },
  {
   "cell_type": "code",
   "execution_count": 1,
   "id": "ebd1e577-2cf2-4acd-ad75-b93f9bf35e39",
   "metadata": {},
   "outputs": [
    {
     "name": "stderr",
     "output_type": "stream",
     "text": [
      "2025-10-02 18:36:55.402192: I tensorflow/core/platform/cpu_feature_guard.cc:210] This TensorFlow binary is optimized to use available CPU instructions in performance-critical operations.\n",
      "To enable the following instructions: AVX2 FMA, in other operations, rebuild TensorFlow with the appropriate compiler flags.\n"
     ]
    }
   ],
   "source": [
    "import math\n",
    "\n",
    "import numpy as np\n",
    "import scipy\n",
    "import torch\n",
    "from sentence_transformers import SentenceTransformer\n"
   ]
  },
  {
   "cell_type": "markdown",
   "id": "cc29660f-a77c-42e5-8372-bb7f2537b1da",
   "metadata": {},
   "source": [
    "----\n"
   ]
  },
  {
   "cell_type": "markdown",
   "id": "864e4408-b025-4c0f-8996-7c28a4afa94a",
   "metadata": {},
   "source": [
    "## Obtain Vector Embeddings\n"
   ]
  },
  {
   "cell_type": "markdown",
   "id": "961b4d8e-29a4-47b4-a4f3-2762db9ccdd4",
   "metadata": {},
   "source": [
    "To calculate distance and similarity metrics, we first need to generate vector embeddings for some text documents. Let’s begin by defining a few example documents:\n"
   ]
  },
  {
   "cell_type": "code",
   "execution_count": 2,
   "id": "4fda1de2-98f1-45f5-a95f-2f990e9eae2e",
   "metadata": {},
   "outputs": [],
   "source": [
    "# Example documents\n",
    "documents = [\n",
    "    'Bugs introduced by the intern had to be squashed by the lead developer.',\n",
    "    'Bugs found by the quality assurance engineer were difficult to debug.',\n",
    "    'Bugs are common throughout the warm summer months, according to the entomologist.',\n",
    "    'Bugs, in particular spiders, are extensively studied by arachnologists.'\n",
    "]\n"
   ]
  },
  {
   "cell_type": "markdown",
   "id": "36c4332e-1f52-4904-ab5e-369a2696949a",
   "metadata": {},
   "source": [
    "As shown above, there are four example documents, each consisting of a single sentence. These sentences are intentionally designed to be challenging for semantic similarity search.\n",
    "\n",
    "All four sentences begin with the word \"Bugs,\" but they refer to different meanings of the word depending on context. The first two sentences relate to software bugs in programming, while the last two refer to physical bugs, such as insects or spiders.\n",
    "\n",
    "The key to distinguishing between these meanings lies in the context, particularly the type of professional mentioned in each sentence. For example, if we replaced the word \"arachnologists\" (scientists who study spiders and other arthropods) in the last sentence with \"lead developers,\" the sentence would instead refer to programming bugs.\n",
    "\n",
    "Let's now define a model that will embed these text documents into numerical vectors:\n"
   ]
  },
  {
   "cell_type": "code",
   "execution_count": 3,
   "id": "d0c5f0e1-37dd-4e02-8f90-5526d5155619",
   "metadata": {},
   "outputs": [
    {
     "name": "stderr",
     "output_type": "stream",
     "text": [
      "/Users/ahmed/.local/lib/python3.12/site-packages/huggingface_hub/file_download.py:1132: FutureWarning: `resume_download` is deprecated and will be removed in version 1.0.0. Downloads always resume when possible. If you want to force a new download, use `force_download=True`.\n",
      "  warnings.warn(\n"
     ]
    },
    {
     "data": {
      "application/vnd.jupyter.widget-view+json": {
       "model_id": "c62f55304f5d4827b096cf1fee96e303",
       "version_major": 2,
       "version_minor": 0
      },
      "text/plain": [
       "model.safetensors:   0%|          | 0.00/90.9M [00:00<?, ?B/s]"
      ]
     },
     "metadata": {},
     "output_type": "display_data"
    },
    {
     "data": {
      "application/vnd.jupyter.widget-view+json": {
       "model_id": "b2c793845aa04e42a0dce061d2dd917e",
       "version_major": 2,
       "version_minor": 0
      },
      "text/plain": [
       "tokenizer_config.json:   0%|          | 0.00/314 [00:00<?, ?B/s]"
      ]
     },
     "metadata": {},
     "output_type": "display_data"
    },
    {
     "data": {
      "application/vnd.jupyter.widget-view+json": {
       "model_id": "6aa119a1ebc94e40836380b355053076",
       "version_major": 2,
       "version_minor": 0
      },
      "text/plain": [
       "vocab.txt: 0.00B [00:00, ?B/s]"
      ]
     },
     "metadata": {},
     "output_type": "display_data"
    },
    {
     "data": {
      "application/vnd.jupyter.widget-view+json": {
       "model_id": "17e748bbb43746e9bbc7d5461b814510",
       "version_major": 2,
       "version_minor": 0
      },
      "text/plain": [
       "tokenizer.json: 0.00B [00:00, ?B/s]"
      ]
     },
     "metadata": {},
     "output_type": "display_data"
    },
    {
     "data": {
      "application/vnd.jupyter.widget-view+json": {
       "model_id": "3c6a663356b6471f95949e37eea01511",
       "version_major": 2,
       "version_minor": 0
      },
      "text/plain": [
       "special_tokens_map.json:   0%|          | 0.00/112 [00:00<?, ?B/s]"
      ]
     },
     "metadata": {},
     "output_type": "display_data"
    },
    {
     "data": {
      "application/vnd.jupyter.widget-view+json": {
       "model_id": "1faa5b8a58fe415cbbeae35b271b32af",
       "version_major": 2,
       "version_minor": 0
      },
      "text/plain": [
       "config.json:   0%|          | 0.00/190 [00:00<?, ?B/s]"
      ]
     },
     "metadata": {},
     "output_type": "display_data"
    }
   ],
   "source": [
    "# Load a pre-trained model\n",
    "model = SentenceTransformer('paraphrase-MiniLM-L6-v2')"
   ]
  },
  {
   "cell_type": "markdown",
   "id": "65b36ee8-9c64-4fec-918a-42b5f33ddf3c",
   "metadata": {},
   "source": [
    "The code above creates an instance of the SentenceTransformer class from the sentence_transformers library, which is commonly used to generate vector embeddings from pre-trained models.\n",
    "\n",
    "In this example, we’re using the [paraphrase-MiniLM-L6-v2](https://huggingface.co/sentence-transformers/paraphrase-MiniLM-L6-v2) model. It was trained on pairs of paraphrased sentences, with the goal of generating similar embeddings for sentences that express the same meaning. While the model was originally designed for paraphrase identification, it also performs well on general semantic similarity tasks—like the ones we’re exploring in this lab.\n",
    "\n",
    "Let's now use the model instance to encode the documents into embedding vectors:\n"
   ]
  },
  {
   "cell_type": "code",
   "execution_count": 4,
   "id": "074c4611-c693-4cc8-a34f-985b1624a769",
   "metadata": {},
   "outputs": [],
   "source": [
    "# Generate embeddings\n",
    "embeddings = model.encode(documents)"
   ]
  },
  {
   "cell_type": "markdown",
   "id": "de852186-b118-4afc-8026-27b9bd27dfb1",
   "metadata": {},
   "source": [
    "Let's explore the shape of our embeddings:\n"
   ]
  },
  {
   "cell_type": "code",
   "execution_count": 5,
   "id": "1804cb2a-2cc5-4ff2-a786-a7b90be9cd8f",
   "metadata": {},
   "outputs": [
    {
     "data": {
      "text/plain": [
       "(4, 384)"
      ]
     },
     "execution_count": 5,
     "metadata": {},
     "output_type": "execute_result"
    }
   ],
   "source": [
    "embeddings.shape"
   ]
  },
  {
   "cell_type": "markdown",
   "id": "2e97e5c1-fe3e-4d71-a715-2848db44afd6",
   "metadata": {},
   "source": [
    "And let's have a quick look at them:\n"
   ]
  },
  {
   "cell_type": "code",
   "execution_count": 6,
   "id": "dad9dba5-2250-44e5-a746-0197b4397682",
   "metadata": {},
   "outputs": [
    {
     "data": {
      "text/plain": [
       "array([[-0.22804385, -0.246477  , -0.00319307, ...,  0.45528123,\n",
       "         0.6341972 ,  0.5375052 ],\n",
       "       [-0.3579156 , -0.32083988,  0.1596325 , ..., -0.07050646,\n",
       "         0.9275026 ,  0.34377307],\n",
       "       [ 0.2030294 , -0.26898587,  0.16285113, ..., -0.19650985,\n",
       "        -0.03379856,  0.5956156 ],\n",
       "       [-0.04264288, -0.457216  , -0.09526493, ..., -0.58030695,\n",
       "         0.17248395,  0.09127861]], dtype=float32)"
      ]
     },
     "execution_count": 6,
     "metadata": {},
     "output_type": "execute_result"
    }
   ],
   "source": [
    "embeddings"
   ]
  },
  {
   "cell_type": "markdown",
   "id": "8e09c36a-a289-4720-9c66-de02d9210958",
   "metadata": {},
   "source": [
    "As shown above, the four text documents have been converted into a NumPy array with shape (4, 384). Each row in the array represents the embedding of one document, and the number 384 is the dimensionality of the embeddings produced by the paraphrase-MiniLM-L6-v2 model. In other words, each document has been transformed into a numerical vector containing 384 values.\n"
   ]
  },
  {
   "cell_type": "markdown",
   "id": "47c37a96-81d7-4156-b1c7-a76fa5f91be8",
   "metadata": {},
   "source": [
    "## L2 (Euclidean) Distance\n"
   ]
  },
  {
   "cell_type": "markdown",
   "id": "f5868144-e0b8-46c7-9aea-af0ccd036398",
   "metadata": {},
   "source": [
    "The L2 (Euclidean) distance between 2 vectors $a$ and $b$ can be calculated using <br>\n",
    "$$ \\text{L2}(a,b) = \\ \\sqrt{\\sum_{i=1}^n (a_i - b_i)^2} $$\n",
    "\n",
    "Let's try to implement the L2 distance manually before looking at off-the-shelf solutions available from third party libraries.\n"
   ]
  },
  {
   "cell_type": "markdown",
   "id": "d0156cc5-1fa5-4b7c-87c9-bfd6b9b9520f",
   "metadata": {},
   "source": [
    "### Manual implementation of L2 distance calculation\n"
   ]
  },
  {
   "cell_type": "markdown",
   "id": "959ddaa7-4228-4327-b78d-4df7ed3204ec",
   "metadata": {},
   "source": [
    "The function below implements the L2 distance formula. It first calculates the sum of the squared differences between corresponding elements, then returns the square root of that sum:\n"
   ]
  },
  {
   "cell_type": "code",
   "execution_count": 8,
   "id": "ef370600-4b07-4b48-8291-81b4007e75e4",
   "metadata": {},
   "outputs": [],
   "source": [
    "def euclidean_distance_fn(vector1, vector2):\n",
    "    squared_sum = sum([(x-y)**2 for x,y in zip(vector1,vector2)])\n",
    "    return math.sqrt(squared_sum)"
   ]
  },
  {
   "cell_type": "markdown",
   "id": "bd8b637c-275a-4052-8a79-f2ea669d3f5d",
   "metadata": {},
   "source": [
    "Note that `euclidean_distance_fn` computes the distance between two individual vectors, not across an entire array. To see how it works, let's calculate the distance between the first vector (index 0) and the second vector (index 1):\n"
   ]
  },
  {
   "cell_type": "code",
   "execution_count": 9,
   "id": "5e3ee766-ee55-42e2-a2f7-30e322030be0",
   "metadata": {},
   "outputs": [
    {
     "data": {
      "text/plain": [
       "5.961790173368908"
      ]
     },
     "execution_count": 9,
     "metadata": {},
     "output_type": "execute_result"
    }
   ],
   "source": [
    "euclidean_distance_fn(embeddings[0], embeddings[1])"
   ]
  },
  {
   "cell_type": "markdown",
   "id": "b97f9983-a428-4b45-9ab3-660e11f9797f",
   "metadata": {},
   "source": [
    "Of course, it does not matter which vector we put first into the function, the resulting distance is the same:\n"
   ]
  },
  {
   "cell_type": "code",
   "execution_count": 10,
   "id": "941e9d17-5167-4d6a-bb70-8e1385aa0e74",
   "metadata": {},
   "outputs": [
    {
     "data": {
      "text/plain": [
       "5.961790173368908"
      ]
     },
     "execution_count": 10,
     "metadata": {},
     "output_type": "execute_result"
    }
   ],
   "source": [
    "euclidean_distance_fn(embeddings[1], embeddings[0])"
   ]
  },
  {
   "cell_type": "markdown",
   "id": "fe963969-99e2-4b11-81c2-a6dba9b6e7c5",
   "metadata": {},
   "source": [
    "In order to calculate all of the distances between all of the vectors in the `embeddings` array, we can use nested loops. In the following, `i` and `j` are the indices of the vectors in the array: \n"
   ]
  },
  {
   "cell_type": "code",
   "execution_count": 11,
   "id": "986c3444-7649-4db7-9c8c-23102be1d9bc",
   "metadata": {},
   "outputs": [
    {
     "data": {
      "text/plain": [
       "array([[0.        , 5.96179017, 7.33940018, 7.15578225],\n",
       "       [5.96179017, 0.        , 7.76861627, 7.39359115],\n",
       "       [7.33940018, 7.76861627, 0.        , 5.91992811],\n",
       "       [7.15578225, 7.39359115, 5.91992811, 0.        ]])"
      ]
     },
     "execution_count": 11,
     "metadata": {},
     "output_type": "execute_result"
    }
   ],
   "source": [
    "l2_dist_manual = np.zeros([4,4])\n",
    "for i in range(embeddings.shape[0]):\n",
    "    for j in range(embeddings.shape[0]):\n",
    "        l2_dist_manual[i,j] = euclidean_distance_fn(embeddings[i], embeddings[j])\n",
    "\n",
    "l2_dist_manual"
   ]
  },
  {
   "cell_type": "markdown",
   "id": "a398a1a8-0bc3-43d7-8d8e-118a5437fba8",
   "metadata": {},
   "source": [
    "`l2_dist_manual` is a 4×4 array where each element represents the L2 distance between two vectors: the vector at the row index and the vector at the column index. For example, the distance between the first vector (index 0) and the second vector (index 1) is located at position `[0, 1]` in the array:\n"
   ]
  },
  {
   "cell_type": "code",
   "execution_count": 14,
   "id": "5f0f9f53-c3f4-4095-b32b-5c240e19e234",
   "metadata": {},
   "outputs": [
    {
     "data": {
      "text/plain": [
       "5.961790173368908"
      ]
     },
     "execution_count": 14,
     "metadata": {},
     "output_type": "execute_result"
    }
   ],
   "source": [
    "l2_dist_manual[0,1]"
   ]
  },
  {
   "cell_type": "markdown",
   "id": "3331c080-9b26-4837-900f-3229a402b884",
   "metadata": {},
   "source": [
    "Moreover, you'll notice that the upper and lower triangles of the array are identical. This is not a coincidence. Just like with the `euclidean_distance_fn` function, the distance between vectors $a$ and $b$ should be identical to the distance between vectors $b$ and $a$:\n"
   ]
  },
  {
   "cell_type": "code",
   "execution_count": 15,
   "id": "7ec84952-556a-43ff-bb7a-7626ef92a4bd",
   "metadata": {},
   "outputs": [
    {
     "data": {
      "text/plain": [
       "5.961790173368908"
      ]
     },
     "execution_count": 15,
     "metadata": {},
     "output_type": "execute_result"
    }
   ],
   "source": [
    "l2_dist_manual[1,0]"
   ]
  },
  {
   "cell_type": "markdown",
   "id": "be6f9871-d321-4d3e-bb0a-3e562a30025f",
   "metadata": {},
   "source": [
    "#### Exercise 1 - Make the manual calculation more efficient\n"
   ]
  },
  {
   "cell_type": "markdown",
   "id": "107a0f5e-59c3-441c-a0a5-216d6a1770b7",
   "metadata": {},
   "source": [
    "The code used to populate the `l2_dist_manual array` is not very efficient. First, it redundantly calculates the distance between a vector and itself, even though the L2 distance in such cases is always zero. Second, the array is symmetric—meaning the distance between vectors at indices $i$ and $j$ is the same as between $j$ and $i$. Therefore, each distance only needs to be computed once.\n",
    "\n",
    "In the cell below, write an improved version of the code that avoids these inefficiencies. You only need to modify the part that says `### YOUR CODE GOES HERE ###`\n"
   ]
  },
  {
   "cell_type": "code",
   "execution_count": 20,
   "id": "f4ce550c-4647-45cd-ade0-c35e02d9bcbb",
   "metadata": {},
   "outputs": [
    {
     "data": {
      "text/plain": [
       "array([[0.        , 5.96179017, 7.33940018, 7.15578225],\n",
       "       [5.96179017, 0.        , 7.76861627, 7.39359115],\n",
       "       [7.33940018, 7.76861627, 0.        , 5.91992811],\n",
       "       [7.15578225, 7.39359115, 5.91992811, 0.        ]])"
      ]
     },
     "execution_count": 20,
     "metadata": {},
     "output_type": "execute_result"
    }
   ],
   "source": [
    "l2_dist_manual_improved = np.zeros([4,4])\n",
    "for i in range(embeddings.shape[0]):\n",
    "    for j in range(embeddings.shape[0]):\n",
    "        if j >i:\n",
    "         l2_dist_manual_improved[i][j] = euclidean_distance_fn(embeddings[i],embeddings[j])\n",
    "        elif i>j:\n",
    "          l2_dist_manual_improved[i][j] = l2_dist_manual[j,i]\n",
    "\n",
    "l2_dist_manual_improved"
   ]
  },
  {
   "cell_type": "markdown",
   "id": "12d680f5-006a-4473-b10b-679b4cc289a6",
   "metadata": {},
   "source": [
    "### Calculate L2 distance using `scipy`\n"
   ]
  },
  {
   "cell_type": "markdown",
   "id": "523df34e-2d2c-44fd-b040-8de7e58cadc8",
   "metadata": {},
   "source": [
    "Instead of writing your own function, you can use a variety of different functions provided by external libraries to calculate the L2 distance. The example below uses a function from `scipy`: \n"
   ]
  },
  {
   "cell_type": "code",
   "execution_count": 21,
   "id": "653a1879-0a60-4e28-8b71-051e6fb989ff",
   "metadata": {},
   "outputs": [
    {
     "data": {
      "text/plain": [
       "array([[0.        , 5.96179016, 7.33940021, 7.15578226],\n",
       "       [5.96179016, 0.        , 7.76861628, 7.39359113],\n",
       "       [7.33940021, 7.76861628, 0.        , 5.91992808],\n",
       "       [7.15578226, 7.39359113, 5.91992808, 0.        ]])"
      ]
     },
     "execution_count": 21,
     "metadata": {},
     "output_type": "execute_result"
    }
   ],
   "source": [
    "l2_dist_scipy = scipy.spatial.distance.cdist(embeddings, embeddings, 'euclidean')\n",
    "l2_dist_scipy"
   ]
  },
  {
   "cell_type": "markdown",
   "id": "bbb1ebf4-f6e6-4303-93b5-e1d6fc41a382",
   "metadata": {},
   "source": [
    "The following verifies that `l2_dist_manual` and `l2_dist_scipy` are identical (after accounting for rounding errors) by using the `allclose()` function from `numpy`:\n"
   ]
  },
  {
   "cell_type": "code",
   "execution_count": 22,
   "id": "f66e7baa-a53e-4656-ab4d-f9f80a877fb0",
   "metadata": {},
   "outputs": [
    {
     "data": {
      "text/plain": [
       "True"
      ]
     },
     "execution_count": 22,
     "metadata": {},
     "output_type": "execute_result"
    }
   ],
   "source": [
    "np.allclose(l2_dist_manual, l2_dist_scipy)"
   ]
  },
  {
   "cell_type": "markdown",
   "id": "b85829d7-5400-4c83-a692-e39a82e7d19a",
   "metadata": {},
   "source": [
    "### Interpret the L2 Distance Results\n"
   ]
  },
  {
   "cell_type": "markdown",
   "id": "9067ce3d-d067-4394-8ee9-3f72d982e49d",
   "metadata": {},
   "source": [
    "An analysis of `l2_dist_scipy` shows that, in this case, the L2 distance metric performed well for similarity search. For example, the first vector—corresponding to the sentence `Bugs introduced by the intern had to be squashed by the lead developer.`—had the smallest distance to the second vector, which represents the sentence `Bugs found by the quality assurance engineer were difficult to debug.` This result aligns with expectations, as both sentences refer to programming bugs.\n",
    "\n",
    "Similarly, the third and fourth sentences—both related to physical bugs rather than programming—were closest to each other in terms of distance, which again matches our intuition.\n"
   ]
  },
  {
   "cell_type": "markdown",
   "id": "a27c141f-57e7-493c-9a0e-bdf8da1f833f",
   "metadata": {},
   "source": [
    "## Dot Product Similarity and Distance\n"
   ]
  },
  {
   "cell_type": "markdown",
   "id": "985cac7d-aabc-4daa-bac5-c5d8b7a8911b",
   "metadata": {},
   "source": [
    "The dot product between vectors $a$ and $b$ is calculated using  <br>\n",
    "$$ a \\cdot b = \\sum_{i=1}^{n} a_i b_i $$\n",
    "\n",
    "Let's define a custom function for calculating the dot product between two vectors.\n"
   ]
  },
  {
   "cell_type": "markdown",
   "id": "67ef1c29-d40d-43e9-9686-41266a29a6a6",
   "metadata": {},
   "source": [
    "### Manual implementation of dot product calculation\n"
   ]
  },
  {
   "cell_type": "markdown",
   "id": "c4e8567e-1f3a-4bab-acfd-ac94ae70dceb",
   "metadata": {},
   "source": [
    "The function below implements the dot product formula:\n"
   ]
  },
  {
   "cell_type": "code",
   "execution_count": 23,
   "id": "5ed1e4ba-72bc-43c4-a2bd-f07192d024d3",
   "metadata": {},
   "outputs": [],
   "source": [
    "def dot_product_fn(vector1, vector2):\n",
    "    return sum(x * y for x, y in zip(vector1, vector2))"
   ]
  },
  {
   "cell_type": "markdown",
   "id": "4a0f30d7-d673-402b-a44c-bb94913c51dc",
   "metadata": {},
   "source": [
    "Let's use the dot product function to calculate the dot product between the first and second vectors:\n"
   ]
  },
  {
   "cell_type": "code",
   "execution_count": 24,
   "id": "69706522-e372-43e9-a2f8-5725130ec031",
   "metadata": {},
   "outputs": [
    {
     "data": {
      "text/plain": [
       "18.535404574718996"
      ]
     },
     "execution_count": 24,
     "metadata": {},
     "output_type": "execute_result"
    }
   ],
   "source": [
    "dot_product_fn(embeddings[0], embeddings[1])"
   ]
  },
  {
   "cell_type": "markdown",
   "id": "ae54d43d-9576-4918-bcdd-648ca21f12bb",
   "metadata": {},
   "source": [
    "Just like we did with the L2 distance calculation, let's use nested loops to calculate the dot product between all vectors in the `embeddings` array:\n"
   ]
  },
  {
   "cell_type": "code",
   "execution_count": 27,
   "id": "1ad9c887-9673-4f9b-ae83-83517ac4f612",
   "metadata": {},
   "outputs": [
    {
     "data": {
      "text/plain": [
       "array([[33.74441972, 18.53540457,  8.56981914,  7.83093371],\n",
       "       [18.53540457, 38.8693309 ,  7.88997305,  8.66340449],\n",
       "       [ 8.56981914,  7.88997305, 37.26201388, 17.66956637],\n",
       "       [ 7.83093371,  8.66340449, 17.66956637, 33.12266742]])"
      ]
     },
     "execution_count": 27,
     "metadata": {},
     "output_type": "execute_result"
    }
   ],
   "source": [
    "dot_product_manual = np.empty([4,4])\n",
    "for i in range(embeddings.shape[0]):\n",
    "    for j in range(embeddings.shape[0]):\n",
    "            dot_product_manual[i,j] = dot_product_fn(embeddings[i], embeddings[j])\n",
    "\n",
    "dot_product_manual"
   ]
  },
  {
   "cell_type": "markdown",
   "id": "cab30117-9605-4b0e-a97a-010dd99648ed",
   "metadata": {},
   "source": [
    "First, observe that the diagonal of the `dot_product_manual matrix` contains non-zero values. This is expected, as the dot product of a vector with itself is not zero. However, since these self-similarity scores aren't particularly informative, we can safely ignore them.\n",
    "\n",
    "Excluding the diagonal, the matrix is symmetric—the upper triangle mirrors the lower triangle—as was the case with the L2 distance.\n",
    "\n",
    "It's also important to remember that the dot product measures similarity, not distance. Higher values indicate greater similarity between vectors.\n",
    "\n",
    "In this case, the dot product similarity performed well: the first two sentences are most similar to each other, and the last two sentences are most similar to each other, which aligns with our expectations.\n"
   ]
  },
  {
   "cell_type": "markdown",
   "id": "aa491293-ecbb-4893-a329-5ae2246cf806",
   "metadata": {},
   "source": [
    "### Calculate the dot product using matrix multiplication\n"
   ]
  },
  {
   "cell_type": "markdown",
   "id": "feb7be7e-9c7d-4553-9ffb-eea73c8501dc",
   "metadata": {},
   "source": [
    "We can compute the dot product efficiently using the [matrix multiplication](https://en.wikipedia.org/wiki/Matrix_multiplication) operator `@`. To do this, we multiply the `embeddings` matrix by its transpose. Since `embeddings` has a shape of 4×384, its transpose will be 384×4. Multiplying these gives us a 4×4 matrix, which is the desired result:\n"
   ]
  },
  {
   "cell_type": "code",
   "execution_count": 28,
   "id": "6fe0dacc-c66d-47c4-8e4b-dad4bc5c50a4",
   "metadata": {},
   "outputs": [
    {
     "data": {
      "text/plain": [
       "array([[33.744423 , 18.535404 ,  8.56982  ,  7.8309355],\n",
       "       [18.535404 , 38.869324 ,  7.889972 ,  8.663405 ],\n",
       "       [ 8.56982  ,  7.889972 , 37.262    , 17.669563 ],\n",
       "       [ 7.8309355,  8.663405 , 17.669563 , 33.122665 ]], dtype=float32)"
      ]
     },
     "execution_count": 28,
     "metadata": {},
     "output_type": "execute_result"
    }
   ],
   "source": [
    "# Matrix multiplication operator\n",
    "dot_product_operator = embeddings @ embeddings.T\n",
    "dot_product_operator"
   ]
  },
  {
   "cell_type": "markdown",
   "id": "75fd62b4-5686-4a58-9038-d427b67be38d",
   "metadata": {},
   "source": [
    "We can verify that the matrix multiplication operator returns the same result as our custom function after accounting for rounding:\n"
   ]
  },
  {
   "cell_type": "code",
   "execution_count": 29,
   "id": "0ec97a0d-5542-4503-9f96-f742e52502f1",
   "metadata": {},
   "outputs": [
    {
     "data": {
      "text/plain": [
       "True"
      ]
     },
     "execution_count": 29,
     "metadata": {},
     "output_type": "execute_result"
    }
   ],
   "source": [
    "np.allclose(dot_product_manual, dot_product_operator, atol=1e-05)"
   ]
  },
  {
   "cell_type": "markdown",
   "id": "ef7e35c6-3d91-4bee-b455-aa0d4b07c250",
   "metadata": {},
   "source": [
    "Equivalently, if both of the matrices we want to multiply are two-dimensional, we can use the `matmul()` function from `numpy` instead:\n"
   ]
  },
  {
   "cell_type": "code",
   "execution_count": 30,
   "id": "20b3d41f-e3fb-46a9-b02c-7be240593dd4",
   "metadata": {},
   "outputs": [
    {
     "data": {
      "text/plain": [
       "array([[33.744423 , 18.535404 ,  8.56982  ,  7.8309355],\n",
       "       [18.535404 , 38.869324 ,  7.889972 ,  8.663405 ],\n",
       "       [ 8.56982  ,  7.889972 , 37.262    , 17.669563 ],\n",
       "       [ 7.8309355,  8.663405 , 17.669563 , 33.122665 ]], dtype=float32)"
      ]
     },
     "execution_count": 30,
     "metadata": {},
     "output_type": "execute_result"
    }
   ],
   "source": [
    "# Equivalent to `np.matmul()` if both arrays are 2-D:\n",
    "np.matmul(embeddings,embeddings.T)"
   ]
  },
  {
   "cell_type": "markdown",
   "id": "60bae7d6-3627-4ad2-bba6-91c875012539",
   "metadata": {},
   "source": [
    "Finally, `numpy` also provides a `dot()` function, which provides an identical result:\n"
   ]
  },
  {
   "cell_type": "code",
   "execution_count": 31,
   "id": "17f07a28-e255-4dfa-bfb7-086058fe285d",
   "metadata": {},
   "outputs": [
    {
     "data": {
      "text/plain": [
       "array([[33.744423 , 18.535404 ,  8.56982  ,  7.8309355],\n",
       "       [18.535404 , 38.869324 ,  7.889972 ,  8.663405 ],\n",
       "       [ 8.56982  ,  7.889972 , 37.262    , 17.669563 ],\n",
       "       [ 7.8309355,  8.663405 , 17.669563 , 33.122665 ]], dtype=float32)"
      ]
     },
     "execution_count": 31,
     "metadata": {},
     "output_type": "execute_result"
    }
   ],
   "source": [
    "# `np.dot` returns an identical result, but `np.matmul` is recommended if both arrays are 2-D:\n",
    "np.dot(embeddings,embeddings.T)"
   ]
  },
  {
   "cell_type": "markdown",
   "id": "490fd19d-707b-41cb-90dc-e5fe5e139594",
   "metadata": {},
   "source": [
    "### Calculate dot product distance\n"
   ]
  },
  {
   "cell_type": "markdown",
   "id": "db2bf4d4-d5d2-4381-9c30-4a919835d8d9",
   "metadata": {},
   "source": [
    "The dot product between two vectors provides a similarity score. If, on the other hand, we would like a distance, we can simply take the negative of the dot product:\n"
   ]
  },
  {
   "cell_type": "code",
   "execution_count": 32,
   "id": "d4f4e384-a801-4a2e-85fd-75a97f1e694d",
   "metadata": {},
   "outputs": [
    {
     "data": {
      "text/plain": [
       "array([[-33.74441972, -18.53540457,  -8.56981914,  -7.83093371],\n",
       "       [-18.53540457, -38.8693309 ,  -7.88997305,  -8.66340449],\n",
       "       [ -8.56981914,  -7.88997305, -37.26201388, -17.66956637],\n",
       "       [ -7.83093371,  -8.66340449, -17.66956637, -33.12266742]])"
      ]
     },
     "execution_count": 32,
     "metadata": {},
     "output_type": "execute_result"
    }
   ],
   "source": [
    "dot_product_distance = -dot_product_manual\n",
    "dot_product_distance"
   ]
  },
  {
   "cell_type": "markdown",
   "id": "abf8f37f-26d2-46cb-9d1a-b308442f1c39",
   "metadata": {},
   "source": [
    "Although it might seem unusual for all the distances to be negative, the essential property of a distance metric is still preserved: smaller values indicate lower distance and thus greater similarity. So even with negative values, the relative comparisons remain valid—lower values still correspond to shorter distances.\n"
   ]
  },
  {
   "cell_type": "markdown",
   "id": "bbd04ca8-c818-4a10-969f-6c7e03b1b392",
   "metadata": {},
   "source": [
    "## Cosine Similarity and Distance\n"
   ]
  },
  {
   "cell_type": "markdown",
   "id": "297db307-a6f0-4e21-9c99-2695f807ac16",
   "metadata": {},
   "source": [
    "The cosine similarity between vectors $a$ and $b$ is calculated using <br>\n",
    "$$ \\text{cossim}(a, b) = \\frac{a \\cdot b}{||a|| \\ ||b||} =  \\frac{a}{||a||} \\cdot \\frac{b}{||b||} $$\n",
    "\n",
    "where $||a|| = \\sqrt{\\sum_{k=1}^n a_k^2}$ is the L2 norm, or the magnitude, of vector $a$, and $\\cdot$ is the dot product.\n",
    "\n",
    "Also note that $\\frac{a}{||a||}$ represents a normalized vector. This means it has the same direction as vector $a$ but a magnitude (or length) of 1. Thus, cosine similarity can be calculated by taking the dot product of two normalized vectors.\n"
   ]
  },
  {
   "cell_type": "markdown",
   "id": "a3e00242-0d8b-4d6e-a9e6-5e21861fa9e6",
   "metadata": {},
   "source": [
    "### Manual implementation of cosine similarity calculation\n"
   ]
  },
  {
   "cell_type": "markdown",
   "id": "7f12fdee-c8f2-46da-8337-05555bcb2702",
   "metadata": {},
   "source": [
    "Since we’ve already covered how to compute the dot product, our strategy for manually calculating cosine similarity will focus on normalizing the vectors. This is because cosine similarity is simply the dot product of two normalized vectors, as was shown after the last equals sign in the cosine similarity calculation formula.\n",
    "\n",
    "However, in order to normalize vectors, we must first compute their L2 norms.\n"
   ]
  },
  {
   "cell_type": "markdown",
   "id": "fbff7e76-2fdc-4de7-ae1d-ccedeeb29bd1",
   "metadata": {},
   "source": [
    "#### Calculate the L2 norm\n"
   ]
  },
  {
   "cell_type": "markdown",
   "id": "97d01efa-d052-4909-8abc-401f87840f95",
   "metadata": {},
   "source": [
    "The following calculates the L2 norms for all the vectors in the `embeddings` array. The calculation simply squares each vector component, sums across columns (note the `axis=1` parameter in the `sum`), and takes a square root:\n"
   ]
  },
  {
   "cell_type": "code",
   "execution_count": 33,
   "id": "da4f1385-4df8-4619-ad89-59df46af4033",
   "metadata": {},
   "outputs": [
    {
     "data": {
      "text/plain": [
       "array([5.808995 , 6.2345276, 6.1042624, 5.7552295], dtype=float32)"
      ]
     },
     "execution_count": 33,
     "metadata": {},
     "output_type": "execute_result"
    }
   ],
   "source": [
    "# L2 norms\n",
    "l2_norms = np.sqrt(np.sum(embeddings**2, axis=1))\n",
    "l2_norms"
   ]
  },
  {
   "cell_type": "markdown",
   "id": "0ae0ac48-c1e8-44ca-86a8-6ae78b6ebb54",
   "metadata": {},
   "source": [
    "Note that the result is a vector with 4 numbers, each of which corresponds to the L2 norm, or the magnitude, of each vector. In order to normalize the vectors to a lenght of one, we should divide each vector's components by the norm. However, in order to do that efficiently, let's reshape the `l2_norms` vector into a 4x1 array:\n"
   ]
  },
  {
   "cell_type": "code",
   "execution_count": 34,
   "id": "07a274f9-9947-4676-86d3-1ff1274a232f",
   "metadata": {},
   "outputs": [
    {
     "data": {
      "text/plain": [
       "array([[5.808995 ],\n",
       "       [6.2345276],\n",
       "       [6.1042624],\n",
       "       [5.7552295]], dtype=float32)"
      ]
     },
     "execution_count": 34,
     "metadata": {},
     "output_type": "execute_result"
    }
   ],
   "source": [
    "# L2 norms reshaped\n",
    "l2_norms_reshaped = l2_norms.reshape(-1,1)\n",
    "l2_norms_reshaped"
   ]
  },
  {
   "cell_type": "markdown",
   "id": "430175d3-2f11-4be6-a3e2-d063fb548cd0",
   "metadata": {},
   "source": [
    "#### Normalize embedding vectors\n"
   ]
  },
  {
   "cell_type": "markdown",
   "id": "5c75478c-eda7-466f-aa03-5256d03497cd",
   "metadata": {},
   "source": [
    "The following code calculates normalized embedding vectors by dividing every component in the vector by the vector's L2 norm:\n"
   ]
  },
  {
   "cell_type": "code",
   "execution_count": 35,
   "id": "ff59fd0c-b0a4-4ca1-8378-56c91cd42966",
   "metadata": {},
   "outputs": [
    {
     "data": {
      "text/plain": [
       "array([[-0.03925702, -0.04243023, -0.00054968, ...,  0.07837522,\n",
       "         0.10917503,  0.09252981],\n",
       "       [-0.05740862, -0.05146178,  0.02560459, ..., -0.01130903,\n",
       "         0.14876871,  0.05514019],\n",
       "       [ 0.03326027, -0.04406525,  0.02667826, ..., -0.03219223,\n",
       "        -0.00553688,  0.09757373],\n",
       "       [-0.00740941, -0.07944357, -0.01655276, ..., -0.10083124,\n",
       "         0.02996995,  0.01586012]], dtype=float32)"
      ]
     },
     "execution_count": 35,
     "metadata": {},
     "output_type": "execute_result"
    }
   ],
   "source": [
    "normalized_embeddings_manual = embeddings/l2_norms_reshaped\n",
    "normalized_embeddings_manual"
   ]
  },
  {
   "cell_type": "markdown",
   "id": "da4dde66-c399-46cf-96b0-82f10d3de959",
   "metadata": {},
   "source": [
    "##### Exercise 2 - Verify that vectors are normalized\n"
   ]
  },
  {
   "cell_type": "markdown",
   "id": "77fa4637-bd16-4c8f-8904-f63b743035d8",
   "metadata": {},
   "source": [
    "Verify that `normalized_embeddings_manual` are normalized vectors by making sure that the length of each vector is equal to 1.\n"
   ]
  },
  {
   "cell_type": "code",
   "execution_count": 36,
   "id": "669487ab-1ebf-4741-8cdb-aab2e33695a9",
   "metadata": {},
   "outputs": [
    {
     "data": {
      "text/plain": [
       "array([1.        , 0.99999994, 0.99999994, 1.        ], dtype=float32)"
      ]
     },
     "execution_count": 36,
     "metadata": {},
     "output_type": "execute_result"
    }
   ],
   "source": [
    "np.sqrt(np.sum(normalized_embeddings_manual**2,axis=1))"
   ]
  },
  {
   "cell_type": "markdown",
   "id": "58065e15-adfe-4c8e-882e-007103d576b2",
   "metadata": {},
   "source": [
    "#### Normalize embeddings using PyTorch\n"
   ]
  },
  {
   "cell_type": "markdown",
   "id": "f7dd169b-be54-4fe9-8e1e-09cbe8deee94",
   "metadata": {},
   "source": [
    "You can normalize embeddings in PyTorch using `torch.nn.functional.normalize()`. If your data is in a NumPy array, first convert it to a PyTorch tensor using `torch.from_numpy()`. After normalization, convert the tensor back to a NumPy array using the `numpy()` method:\n"
   ]
  },
  {
   "cell_type": "code",
   "execution_count": 37,
   "id": "f25937f1-6d9a-4bd3-8792-b809e61be192",
   "metadata": {},
   "outputs": [
    {
     "data": {
      "text/plain": [
       "array([[-0.03925702, -0.04243023, -0.00054968, ...,  0.07837522,\n",
       "         0.10917503,  0.09252981],\n",
       "       [-0.05740862, -0.05146178,  0.02560459, ..., -0.01130903,\n",
       "         0.14876871,  0.05514019],\n",
       "       [ 0.03326027, -0.04406525,  0.02667826, ..., -0.03219223,\n",
       "        -0.00553688,  0.09757373],\n",
       "       [-0.00740941, -0.07944357, -0.01655276, ..., -0.10083123,\n",
       "         0.02996995,  0.01586012]], dtype=float32)"
      ]
     },
     "execution_count": 37,
     "metadata": {},
     "output_type": "execute_result"
    }
   ],
   "source": [
    "normalized_embeddings_torch = torch.nn.functional.normalize(\n",
    "    torch.from_numpy(embeddings)\n",
    ").numpy()\n",
    "normalized_embeddings_torch"
   ]
  },
  {
   "cell_type": "markdown",
   "id": "581a27a9-e58a-4f3d-b68a-7fe261b4615d",
   "metadata": {},
   "source": [
    "We can verify that the normalized embeddings we calculated manually and the normalized embeddings calculated using `torch` are indeed identical using numpy's `allclose()` function:\n"
   ]
  },
  {
   "cell_type": "code",
   "execution_count": 38,
   "id": "7cac160f-7bad-4453-87c5-62aed096450e",
   "metadata": {},
   "outputs": [
    {
     "data": {
      "text/plain": [
       "True"
      ]
     },
     "execution_count": 38,
     "metadata": {},
     "output_type": "execute_result"
    }
   ],
   "source": [
    "np.allclose(normalized_embeddings_manual, normalized_embeddings_torch)"
   ]
  },
  {
   "cell_type": "markdown",
   "id": "2cb01a9e-d789-4707-bea6-07c0405a564f",
   "metadata": {},
   "source": [
    "#### Calculate cosine similarity manually\n"
   ]
  },
  {
   "cell_type": "markdown",
   "id": "4ee74df9-61e1-4f8c-9ca4-2c8ca93e6bdd",
   "metadata": {},
   "source": [
    "To calculate cosine similarity between two normalized embedding vectors, we simply take their dot product. To do this, we can leverage the dot product function we defined before. For instance, the following calculates the cosine similarity between the vector embeddings of the first and second sentence:\n"
   ]
  },
  {
   "cell_type": "code",
   "execution_count": 39,
   "id": "dab03c24-b7db-429c-863b-c26701c07d8b",
   "metadata": {},
   "outputs": [
    {
     "data": {
      "text/plain": [
       "0.5117967594561605"
      ]
     },
     "execution_count": 39,
     "metadata": {},
     "output_type": "execute_result"
    }
   ],
   "source": [
    "dot_product_fn(normalized_embeddings_manual[0], normalized_embeddings_manual[1])"
   ]
  },
  {
   "cell_type": "markdown",
   "id": "2e18ad98-8aba-43e5-b2f9-7e1977ad7258",
   "metadata": {},
   "source": [
    "Likewise, to calculate the cosine similarities between all normalized vectors, we can use a nested loop:\n"
   ]
  },
  {
   "cell_type": "code",
   "execution_count": 40,
   "id": "8b3e85a4-ec8c-4021-8646-206bd26ae7b8",
   "metadata": {},
   "outputs": [
    {
     "data": {
      "text/plain": [
       "array([[0.99999999, 0.51179676, 0.2416782 , 0.23423399],\n",
       "       [0.51179676, 0.99999992, 0.20731884, 0.24144732],\n",
       "       [0.2416782 , 0.20731884, 0.99999986, 0.50295607],\n",
       "       [0.23423399, 0.24144732, 0.50295607, 1.00000003]])"
      ]
     },
     "execution_count": 40,
     "metadata": {},
     "output_type": "execute_result"
    }
   ],
   "source": [
    "cosine_similarity_manual = np.empty([4,4])\n",
    "for i in range(normalized_embeddings_manual.shape[0]):\n",
    "    for j in range(normalized_embeddings_manual.shape[0]):\n",
    "        cosine_similarity_manual[i,j] = dot_product_fn(\n",
    "            normalized_embeddings_manual[i], \n",
    "            normalized_embeddings_manual[j]\n",
    "        )\n",
    "\n",
    "cosine_similarity_manual"
   ]
  },
  {
   "cell_type": "markdown",
   "id": "f68e5379-3a53-4c7f-ba79-bc1c4a161615",
   "metadata": {},
   "source": [
    "Cosine similarity ranges from -1 to 1. The cosine similarity matrix is symmetric, just like the matrices for L2 distance and the dot product. In this example, cosine similarity performed well: the first two sentences were most similar to each other, as were the last two—matching our expectations.\n"
   ]
  },
  {
   "cell_type": "markdown",
   "id": "f526db6f-94a6-4346-90d9-6cba69e2e20b",
   "metadata": {},
   "source": [
    "### Calculate cosine similarity using matrix multiplication\n"
   ]
  },
  {
   "cell_type": "markdown",
   "id": "a0c5f1fd-08d8-41a1-88ec-968856f4d578",
   "metadata": {},
   "source": [
    "Just like with the dot product, we can compute cosine similarity using matrix algebra. By multiplying the matrix of normalized embeddings with its transpose using the matrix multiplication operator, we obtain the cosine similarity matrix. This works because, once vectors are normalized, cosine similarity can be calculated by simply taking the dot product:\n"
   ]
  },
  {
   "cell_type": "code",
   "execution_count": 41,
   "id": "efbb83df-af28-405a-936d-c29e41e33bb8",
   "metadata": {},
   "outputs": [
    {
     "data": {
      "text/plain": [
       "array([[1.0000002 , 0.5117967 , 0.24167816, 0.23423399],\n",
       "       [0.5117967 , 0.9999999 , 0.20731883, 0.24144733],\n",
       "       [0.24167816, 0.20731883, 0.9999999 , 0.50295603],\n",
       "       [0.23423399, 0.24144733, 0.50295603, 1.        ]], dtype=float32)"
      ]
     },
     "execution_count": 41,
     "metadata": {},
     "output_type": "execute_result"
    }
   ],
   "source": [
    "cosine_similarity_operator = normalized_embeddings_manual @ normalized_embeddings_manual.T\n",
    "cosine_similarity_operator"
   ]
  },
  {
   "cell_type": "markdown",
   "id": "9bcf2c4d-22e3-42f2-be3f-89f03f60b597",
   "metadata": {},
   "source": [
    "We can verify that the matrix algebra solution is the same as the one found using the nested loop:\n"
   ]
  },
  {
   "cell_type": "code",
   "execution_count": 42,
   "id": "6ebafcaf-1536-4157-895d-ddfde082e6e3",
   "metadata": {},
   "outputs": [
    {
     "data": {
      "text/plain": [
       "True"
      ]
     },
     "execution_count": 42,
     "metadata": {},
     "output_type": "execute_result"
    }
   ],
   "source": [
    "np.allclose(cosine_similarity_manual, cosine_similarity_operator)"
   ]
  },
  {
   "cell_type": "markdown",
   "id": "01d89bc4-e6d6-4637-a149-f90de68e06d1",
   "metadata": {},
   "source": [
    "### Calculate cosine distance\n"
   ]
  },
  {
   "cell_type": "markdown",
   "id": "f6b53ee4-c77d-4bbe-95b2-3ee448fdba9c",
   "metadata": {},
   "source": [
    "The cosine distance between vectors $a$ and $b$ is simply 1 minus the cosine similarity between $a$ and $b$: <br>\n",
    "$$ 1 - cossim(a,b) $$\n",
    "\n",
    "Using numpy, this can be calculated as follows:\n"
   ]
  },
  {
   "cell_type": "code",
   "execution_count": 43,
   "id": "ef5f1c0e-acba-4154-a96c-6ee82b6f1c5a",
   "metadata": {},
   "outputs": [
    {
     "data": {
      "text/plain": [
       "array([[ 8.52335802e-09,  4.88203241e-01,  7.58321801e-01,\n",
       "         7.65766010e-01],\n",
       "       [ 4.88203241e-01,  7.84098841e-08,  7.92681156e-01,\n",
       "         7.58552681e-01],\n",
       "       [ 7.58321801e-01,  7.92681156e-01,  1.37142571e-07,\n",
       "         4.97043930e-01],\n",
       "       [ 7.65766010e-01,  7.58552681e-01,  4.97043930e-01,\n",
       "        -2.94354867e-08]])"
      ]
     },
     "execution_count": 43,
     "metadata": {},
     "output_type": "execute_result"
    }
   ],
   "source": [
    "1 - cosine_similarity_manual"
   ]
  },
  {
   "cell_type": "markdown",
   "id": "278c093e-8a33-49b4-9214-cfb773161c7e",
   "metadata": {},
   "source": [
    "## Exercise 3 - Similarity Search Using a Query\n"
   ]
  },
  {
   "cell_type": "markdown",
   "id": "47fe5bb2-8b75-446d-b56f-a6eff33d8819",
   "metadata": {},
   "source": [
    "In the above examples, we calculated similarity between 4 documents:\n",
    "\n",
    "```python\n",
    "documents = [\n",
    "    'Bugs introduced by the intern had to be squashed by the lead developer.',\n",
    "    'Bugs found by the quality assurance engineer were difficult to debug.',\n",
    "    'Bugs are common throughout the warm summer months, according to the entomologist.',\n",
    "    'Bugs, in particular spiders, are extensively studied by arachnologists.'\n",
    "]\n",
    "```\n",
    "\n",
    "Now, your task is to find which of these 4 documents is most similar to the query `Who is responsible for a coding project and fixing others' mistakes?` using cosine similarity. You can reuse the `documents` and `normalized_embeddings_manual` arrays in your answer:\n"
   ]
  },
  {
   "cell_type": "code",
   "execution_count": null,
   "id": "1e050653-a17a-4b4c-9caa-da324dffd3ba",
   "metadata": {},
   "outputs": [
    {
     "data": {
      "text/plain": [
       "'Bugs introduced by the intern had to be squashed by the lead developer.'"
      ]
     },
     "execution_count": 50,
     "metadata": {},
     "output_type": "execute_result"
    }
   ],
   "source": [
    "query_embedding = model.encode(\n",
    "    [\"Who is responsible for a coding project and fixing others' mistakes?\"]\n",
    ")\n",
    "\n",
    "normalized_query_embedding = torch.nn.functional.normalize(\n",
    "    torch.from_numpy(query_embedding)\n",
    ").numpy()\n",
    "\n",
    "cosine_similarity = normalized_embeddings_manual @ normalized_query_embedding.T\n",
    "\n",
    "highest_cossim_position = cosine_similarity.argmax()\n",
    "\n",
    "documents[highest_cossim_position]"
   ]
  },
  {
   "cell_type": "markdown",
   "id": "ac7a1fc3-395a-4fd8-be72-b3072d7a9ba1",
   "metadata": {},
   "source": [
    "## Wrap-up\n"
   ]
  },
  {
   "cell_type": "markdown",
   "id": "b2b1fe6f-e096-45a1-8433-5c53465678d3",
   "metadata": {},
   "source": [
    "In this lab, you explored how to compute L2 distance, dot product similarity and distance, as well as cosine similarity and distance between pairs of vectors for the purposes of performing a similarity search. These computations were performed both through manually defined functions and by using built-in functions and methods from external Python libraries. This helped illustrate the mathematical foundations of vector similarity and how they are implemented in practical coding scenarios.\n"
   ]
  },
  {
   "cell_type": "markdown",
   "id": "47239fda-71a5-4d0b-9301-4a5d5b5223c4",
   "metadata": {},
   "source": [
    "## Authors\n"
   ]
  },
  {
   "cell_type": "markdown",
   "id": "4d6e3285-c9d8-4d46-be1a-9e74401e3b69",
   "metadata": {},
   "source": [
    "[Wojciech \\\"Victor\\\" Fulmyk](https://www.linkedin.com/in/wfulmyk)\n"
   ]
  },
  {
   "cell_type": "markdown",
   "id": "4b923592-bdaa-45d1-81ba-1f6ffebfd4fe",
   "metadata": {},
   "source": [
    "## Change Log\n"
   ]
  },
  {
   "cell_type": "markdown",
   "id": "728b8d42-9838-454e-b6a3-9248972b861a",
   "metadata": {},
   "source": [
    "<details>\n",
    "    <summary>Click here for the changelog</summary>\n",
    "\n",
    "|Date (YYYY-MM-DD)|Version|Changed By|Change Description|\n",
    "|-|-|-|-|\n",
    "| 2025-06-15 | 0.1 | Wojciech \"Victor\" Fulmyk | Initial version created |\n",
    "| 2025-06-16 | 0.2 | Steve Ryan | ID review/typo fix |\n",
    "| 2025-06-17 | 0.3 | Wojciech \"Victor\" Fulmyk | Fixed TOC and broken link |\n",
    "\n",
    "</details>\n"
   ]
  },
  {
   "cell_type": "markdown",
   "id": "4d006000-231c-4377-9d48-bd356b42c35a",
   "metadata": {},
   "source": [
    "Copyright © IBM Corporation. All rights reserved.\n"
   ]
  }
 ],
 "metadata": {
  "kernelspec": {
   "display_name": "base",
   "language": "python",
   "name": "python3"
  },
  "language_info": {
   "codemirror_mode": {
    "name": "ipython",
    "version": 3
   },
   "file_extension": ".py",
   "mimetype": "text/x-python",
   "name": "python",
   "nbconvert_exporter": "python",
   "pygments_lexer": "ipython3",
   "version": "3.12.2"
  },
  "prev_pub_hash": "d427e1b04231146bc304f0c47eb6ab99bf399c31f31b9def273627cfadfc9a94"
 },
 "nbformat": 4,
 "nbformat_minor": 4
}
